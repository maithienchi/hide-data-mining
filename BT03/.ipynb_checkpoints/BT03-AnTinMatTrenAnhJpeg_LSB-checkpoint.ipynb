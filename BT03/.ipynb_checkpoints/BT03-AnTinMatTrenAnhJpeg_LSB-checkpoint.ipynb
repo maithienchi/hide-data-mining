{
 "cells": [
  {
   "cell_type": "markdown",
   "metadata": {},
   "source": [
    "# BT03: Ẩn tin mật trên ảnh jpeg bằng phương pháp LSB\n",
    "\n",
    "\n",
    "Họ tên: ...\n",
    "\n",
    "MSSV: ..."
   ]
  },
  {
   "cell_type": "markdown",
   "metadata": {},
   "source": [
    "---\n",
    "## Cách làm bài và nộp bài\n",
    "&#9889; Bạn lưu ý là mình sẽ dùng chương trình hỗ trợ chấm bài nên bạn cần phải tuân thủ chính xác qui định mà mình đặt ra, nếu không rõ thì hỏi, chứ không nên tự tiện làm theo ý của cá nhân.\n",
    "\n",
    "**Cách làm bài**\n",
    "\n",
    "Bạn sẽ làm trực tiếp trên file notebook này. Đầu tiên, bạn điền họ tên và MSSV vào phần đầu file ở bên trên. Trong file, bạn làm bài ở những chỗ có ghi là:\n",
    "```python\n",
    "# YOUR CODE HERE\n",
    "raise NotImplementedError()\n",
    "```\n",
    "hoặc đối với những phần code không bắt buộc thì là:\n",
    "```python\n",
    "# YOUR CODE HERE (OPTION)\n",
    "```\n",
    "hoặc đối với markdown cell thì là:\n",
    "```markdown\n",
    "YOUR ANSWER HERE\n",
    "```\n",
    "Tất nhiên, khi làm thì bạn xóa dòng `raise NotImplementedError()` đi.\n",
    "Đối những phần yêu cầu code thì thường ở ngay phía dưới sẽ có một (hoặc một số) cell chứa các bộ test để giúp bạn biết đã code đúng hay chưa; nếu chạy cell này không có lỗi gì thì có nghĩa là qua được các bộ test. Trong một số trường hợp, các bộ test có thể sẽ không đầy đủ; nghĩa là, nếu không qua được test thì là code sai, nhưng nếu qua được test thì chưa chắc đã đúng hoàn toàn.\n",
    "\n",
    "Trong khi làm bài, bạn có thể cho in ra màn hình, tạo thêm các cell để test. Nhưng khi nộp bài thì bạn xóa các cell mà bạn tự tạo, xóa hoặc comment các câu lệnh in ra màn hình. Bạn lưu ý <font color=red>không được tự tiện xóa các cell hay sửa code của Thầy</font> (trừ những chỗ được phép sửa như đã nói ở trên).\n",
    "\n",
    "Trong khi làm bài, thường xuyên `Ctrl + S` để lưu lại bài làm của bạn, tránh mất mát thông tin.\n",
    "\n",
    "\n",
    "*Nên nhớ mục tiêu chính ở đây là <font color=green>học, học một cách chân thật</font>. Bạn có thể thảo luận ý tưởng với bạn khác, nhưng <font color=green>code và bài làm phải là của bạn, dựa trên sự hiểu thật sự của bạn</font>. <font color=red>Nếu vi phạm thì sẽ bị 0 điểm cho toàn bộ môn học.</font>*\n",
    "\n",
    "**Cách nộp bài**\n",
    "\n",
    "Khi chấm bài, đầu tiên mình sẽ chọn `Kernel` - `Restart Kernel & Run All Cells`, để restart và chạy tất cả các cell trong notebook của bạn; do đó, trước khi nộp bài, bạn nên chạy thử `Kernel` - `Restart Kernel & Run All Cells` để đảm bảo mọi chuyện diễn ra đúng như mong đợi.\n",
    "\n",
    "Sau đó, bạn tạo thư mục nộp bài theo cấu trúc sau:\n",
    "- Thư mục `MSSV` (vd, nếu bạn có MSSV là 1234567 thì bạn đặt tên thư mục là `1234567`)\n",
    "    - Thư mục `BT03`\n",
    "        - File `BT03-AnTinMatTrenAnhJpeg_LSB.ipynb` (không cần nộp các file khác)\n",
    "\n",
    "Cuối cùng, bạn nén thư mục `MSSV` này lại và nộp ở link trên moodle. <font color=red>Bạn lưu ý tuân thủ chính xác cấu trúc này.</font>"
   ]
  },
  {
   "cell_type": "markdown",
   "metadata": {},
   "source": [
    "---\n",
    "## Import"
   ]
  },
  {
   "cell_type": "code",
   "execution_count": null,
   "metadata": {},
   "outputs": [],
   "source": [
    "import constants\n",
    "from huffman import Huffman \n",
    "import jpeg_decoder\n",
    "\n",
    "import struct \n",
    "import numpy as np\n",
    "from scipy import fftpack\n",
    "from PIL import Image\n",
    "from bitarray import bitarray\n",
    "import matplotlib.pyplot as plt\n",
    "\n",
    "# YOUR CODE HERE (OPTION)"
   ]
  },
  {
   "cell_type": "markdown",
   "metadata": {},
   "source": [
    "---\n",
    "## Các hàm hỗ trợ"
   ]
  },
  {
   "cell_type": "code",
   "execution_count": null,
   "metadata": {},
   "outputs": [],
   "source": [
    "def dct2(pixels):\n",
    "    '''\n",
    "    Hàm biến đổi từ ma trận điểm ảnh sang ma trận hệ số DCT (2 ma trận có cùng shape).\n",
    "    '''\n",
    "    return fftpack.dct(fftpack.dct(pixels, axis=0, norm='ortho'), axis=1, norm='ortho')\n",
    "\n",
    "def idct2(dct_coefs):\n",
    "    '''\n",
    "    Hàm biến đổi từ ma trận hệ số DCT sang ma trận điểm ảnh (2 ma trận có cùng shape).\n",
    "    '''\n",
    "    return fftpack.idct(fftpack.idct(dct_coefs, axis=0 , norm='ortho'), axis=1, norm='ortho')"
   ]
  },
  {
   "cell_type": "code",
   "execution_count": null,
   "metadata": {},
   "outputs": [],
   "source": [
    "def get_header(img_height, img_width, quant_table):\n",
    "    '''\n",
    "    Hàm tính chuỗi byte ứng với header của ảnh JPEG.\n",
    "    (Code được điều chỉnh từ nguồn: https://github.com/reinhrst/pygreypeg.)\n",
    "    '''\n",
    "    buf = bytearray()\n",
    "\n",
    "    def writebyte(val):\n",
    "        buf.extend(struct.pack(\">B\", val))\n",
    "\n",
    "    def writeshort(val):\n",
    "        buf.extend(struct.pack(\">H\", val))\n",
    "\n",
    "    # SOI\n",
    "    writeshort(0xFFD8)  # SOI marker\n",
    "\n",
    "    # APP0\n",
    "    writeshort(0xFFE0)  # APP0 marker\n",
    "    writeshort(0x0010)  # segment length\n",
    "    writebyte(0x4A)     # 'J'\n",
    "    writebyte(0x46)     # 'F'\n",
    "    writebyte(0x49)     # 'I'\n",
    "    writebyte(0x46)     # 'F'\n",
    "    writebyte(0x00)     # '\\0'\n",
    "    writeshort(0x0101)  # v1.1\n",
    "    writebyte(0x00)     # no density unit\n",
    "    writeshort(0x0001)  # X density = 1\n",
    "    writeshort(0x0001)  # Y density = 1\n",
    "    writebyte(0x00)     # thumbnail width = 0\n",
    "    writebyte(0x00)     # thumbnail height = 0\n",
    "\n",
    "    # DQT\n",
    "    quant_table = quant_table.reshape(-1)\n",
    "    writeshort(0xFFDB)  # DQT marker\n",
    "    writeshort(0x0043)  # segment length\n",
    "    writebyte(0x00)     # table 0, 8-bit precision (0)\n",
    "    for index in constants.zz:\n",
    "        writebyte(quant_table[index])\n",
    "\n",
    "    # SOF0\n",
    "    writeshort(0xFFC0)  # SOF0 marker\n",
    "    writeshort(0x000B)  # segment length\n",
    "    writebyte(0x08)     # 8-bit precision\n",
    "    writeshort(img_height)\n",
    "    writeshort(img_width)\n",
    "    writebyte(0x01)     # 1 component only (grayscale)\n",
    "    writebyte(0x01)     # component ID = 1\n",
    "    writebyte(0x11)     # no subsampling\n",
    "    writebyte(0x00)     # quantization table 0\n",
    "\n",
    "    # DHT\n",
    "    writeshort(0xFFC4)                     # DHT marker\n",
    "    writeshort(19 + constants.dc_nb_vals)  # segment length\n",
    "    writebyte(0x00)                        # table 0 (DC), type 0 (0 = Y, 1 = UV)\n",
    "    for node in constants.dc_nodes[1:]:\n",
    "        writebyte(node)\n",
    "    for val in constants.dc_vals:\n",
    "        writebyte(val)\n",
    "\n",
    "    writeshort(0xFFC4)                     # DHT marker\n",
    "    writeshort(19 + constants.ac_nb_vals)\n",
    "    writebyte(0x10)                        # table 1 (AC), type 0 (0 = Y, 1 = UV)\n",
    "    for node in constants.ac_nodes[1:]:\n",
    "        writebyte(node)\n",
    "    for val in constants.ac_vals:\n",
    "        writebyte(val)\n",
    "\n",
    "    # SOS\n",
    "    writeshort(0xFFDA)  # SOS marker\n",
    "    writeshort(8)       # segment length\n",
    "    writebyte(0x01)     # nb. components\n",
    "    writebyte(0x01)     # Y component ID\n",
    "    writebyte(0x00)     # Y HT = 0\n",
    "    # segment end\n",
    "    writebyte(0x00)\n",
    "    writebyte(0x3F)\n",
    "    writebyte(0x00)\n",
    "\n",
    "    return buf"
   ]
  },
  {
   "cell_type": "code",
   "execution_count": null,
   "metadata": {},
   "outputs": [],
   "source": [
    "# YOUR CODE HERE (OPTION)"
   ]
  },
  {
   "cell_type": "markdown",
   "metadata": {},
   "source": [
    "---\n",
    "## Hàm nhúng (6đ)"
   ]
  },
  {
   "cell_type": "code",
   "execution_count": null,
   "metadata": {
    "deletable": false,
    "nbgrader": {
     "cell_type": "code",
     "checksum": "110575a612ec970b8c7ef5e65dfeb46b",
     "grade": false,
     "grade_id": "cell-4d00b18bd9eac1b7",
     "locked": false,
     "schema_version": 3,
     "solution": true,
     "task": false
    }
   },
   "outputs": [],
   "source": [
    "def embed(msg_file, cover_img_file, quant_table, stego_img_file):\n",
    "    '''\n",
    "    Nhúng tin mật vào ảnh jpeg (lossy) bằng phương pháp LSB với k = 1 \n",
    "    (xem file slide \"07-AnTinMatTrenAnh3.pdf\", trang 13).\n",
    "    Để đơn giản, ở đây ta sẽ giả định: ảnh là ảnh xám, \n",
    "                                       có chiều dài và chiều rộng chia hết cho 8.\n",
    "    \n",
    "    Các tham số:\n",
    "        msg_file (str): Tên file chứa secret message.\n",
    "        cover_img_file (str): Tên file chứa cover image.\n",
    "        quant_table (mảng numpy 8x8): Bảng quantization (bảng các số chia ở bước quantization).\n",
    "        stego_img_file (str): Tên file (*.jpg) chứa stego image (kết quả sau khi nhúng).\n",
    "    Giá trị trả về:\n",
    "        bool: True nếu nhúng thành không, False nếu không đủ chỗ để nhúng. \n",
    "    '''\n",
    "    # I. Đọc cover img file\n",
    "    # YOUR CODE HERE\n",
    "    raise NotImplementedError()\n",
    "    \n",
    "    # II. Đọc msg file, chuyển msg thành msg bits, kiểm xem có đủ chỗ nhúng không, thêm 100... vào msg bits\n",
    "    # YOUR CODE HERE\n",
    "    raise NotImplementedError()\n",
    "    \n",
    "    # III. Nén jpeg, trong quá trình nén thực hiện nhúng msg bits\n",
    "    jpeg_bytes = bytearray()\n",
    "    jpeg_bytes.extend(get_header(height, width, quant_table))\n",
    "    huf = Huffman()\n",
    "    \n",
    "    # Lần lượt duyệt các khối ảnh 8x8 (theo thứ tự từ trái qua phải, từ trên xuống dưới)\n",
    "    # Với mỗi khối:\n",
    "    # (1) Trừ 128 rồi tính các hệ số DCT\n",
    "    # (2) Tính các hệ số quantized DCT\n",
    "    # (3) Nhúng msg bits vào các hệ số quantized DCT\n",
    "    # (4) Nén các hệ số quantized DCT bằng thuật toán nén Huffman\n",
    "    #     Để nén dùng câu lệnh `huf.encode_block(quant_dct_coefs, length)`\n",
    "    #     Trong đó: \n",
    "    #     - `quant_dct_coefs` là mảng 1 chiều các hệ số quantized DCT \n",
    "    #       (có được bằng cách duyệt mảng 2 chiều theo thứ tự dích dắc:\n",
    "    #       đầu tiên, kéo mảng 2 chiều thành mảng một chiều, \n",
    "    #       rồi duyệt mảng một chiều này theo mảng chỉ số `constants.zz` đã được định nghĩa sẵn cho bạn)\n",
    "    #     - `length` là số lượng phần tử của mảng `quant_dct_coefs` tính\n",
    "    #       từ phần tử đầu cho đến phần tử khác 0 cuối cùng \n",
    "    #       (lưu ý: có thể xảy ra trường hợp tất cả phần tử đều bằng 0)\n",
    "    # YOUR CODE HERE\n",
    "    raise NotImplementedError()\n",
    "    \n",
    "    jpeg_bytes.extend(huf.end_and_get_buffer())\n",
    "    jpeg_bytes.extend(struct.pack(\">H\", 0xFFD9))  # EOI marker\n",
    "    \n",
    "    # IV. Ghi kết quả nén jpeg xuống file\n",
    "    with open(stego_img_file, 'wb') as f:\n",
    "        f.write(jpeg_bytes)\n",
    "    \n",
    "    return True"
   ]
  },
  {
   "cell_type": "code",
   "execution_count": null,
   "metadata": {
    "deletable": false,
    "editable": false,
    "nbgrader": {
     "cell_type": "code",
     "checksum": "e776b131155c8e1d989f6489d3670e9f",
     "grade": true,
     "grade_id": "cell-1e0a132e141c548d",
     "locked": true,
     "points": 1,
     "schema_version": 3,
     "solution": false,
     "task": false
    }
   },
   "outputs": [],
   "source": [
    "# TEST\n",
    "quant_table = np.array([\n",
    "    16, 11, 10, 16,  1,  1,  1,  1,\n",
    "    12, 12, 14,  1,  1,  1,  1, 55,\n",
    "    14, 13,  1,  1,  1,  1, 69, 56,\n",
    "    14,  1,  1,  1,  1, 87, 80, 62,\n",
    "     1,  1,  1,  1, 68, 109, 103, 77,\n",
    "     1,  1,  1, 64, 81, 104, 113, 92,\n",
    "     1,  1, 78, 87, 103, 121, 120, 101,\n",
    "     1, 92, 95, 98, 112, 100, 103, 99\n",
    "]).reshape(8, 8)\n",
    "result = embed('msg2.txt', 'cover.bmp', quant_table, 'stego.jpg')\n",
    "assert result == False"
   ]
  },
  {
   "cell_type": "code",
   "execution_count": null,
   "metadata": {
    "deletable": false,
    "editable": false,
    "nbgrader": {
     "cell_type": "code",
     "checksum": "1973a6ef5188026c95e39500c00d32e3",
     "grade": true,
     "grade_id": "cell-f06a3d7cf3fc53d6",
     "locked": true,
     "points": 5,
     "schema_version": 3,
     "solution": false,
     "task": false
    }
   },
   "outputs": [],
   "source": [
    "# TEST\n",
    "result = embed('msg.txt', 'cover.bmp', quant_table, 'stego.jpg')\n",
    "assert result == True\n",
    "assert np.all(np.array(Image.open('stego.jpg')) == np.array(Image.open('correct_stego.jpg')))"
   ]
  },
  {
   "cell_type": "markdown",
   "metadata": {},
   "source": [
    "---\n",
    "## Hàm rút trích (4đ)"
   ]
  },
  {
   "cell_type": "code",
   "execution_count": null,
   "metadata": {
    "deletable": false,
    "nbgrader": {
     "cell_type": "code",
     "checksum": "c0fc14956b2e58a9f9bc237fbee7739f",
     "grade": false,
     "grade_id": "cell-88d4e1d5217cbbce",
     "locked": false,
     "schema_version": 3,
     "solution": true,
     "task": false
    }
   },
   "outputs": [],
   "source": [
    "def extract(stego_img_file, extr_msg_file):\n",
    "    '''\n",
    "    Hàm rút trích tin mật đã được nhúng vào ảnh jpeg.\n",
    "    \n",
    "    Các tham số:\n",
    "        stego_img_file (str): Tên file chứa stego image.\n",
    "        extr_msg_file (str): Tên file chứa secret message được rút trích.\n",
    "    '''\n",
    "    # Trong quá trình giải nén stego img file, lấy các hệ số quantized dct và bảng quatization\n",
    "    quant_dct_coefs, quant_table = jpeg_decoder.get_quant_dct_coefs_and_quant_table(stego_img_file)\n",
    "    #print(quant_dct_coefs.shape, quant_table.shape)\n",
    "    \n",
    "    # Phần còn lại là của bạn\n",
    "    # YOUR CODE HERE\n",
    "    raise NotImplementedError()"
   ]
  },
  {
   "cell_type": "code",
   "execution_count": null,
   "metadata": {
    "deletable": false,
    "editable": false,
    "nbgrader": {
     "cell_type": "code",
     "checksum": "73bd2a989eae115a56bf5a8d5e133fa2",
     "grade": true,
     "grade_id": "cell-b349e0264d1f293c",
     "locked": true,
     "points": 4,
     "schema_version": 3,
     "solution": false,
     "task": false
    }
   },
   "outputs": [],
   "source": [
    "# TEST\n",
    "extract('stego.jpg', 'extr_msg.txt')\n",
    "with open('extr_msg.txt', 'r') as f:\n",
    "    extr_msg = f.read()\n",
    "with open('msg.txt', 'r') as f:\n",
    "    correct_extr_msg = f.read()\n",
    "assert extr_msg == correct_extr_msg"
   ]
  }
 ],
 "metadata": {
  "anaconda-cloud": {},
  "kernelspec": {
   "display_name": "Python 3",
   "language": "python",
   "name": "python3"
  },
  "language_info": {
   "codemirror_mode": {
    "name": "ipython",
    "version": 3
   },
   "file_extension": ".py",
   "mimetype": "text/x-python",
   "name": "python",
   "nbconvert_exporter": "python",
   "pygments_lexer": "ipython3",
   "version": "3.7.3"
  },
  "toc": {
   "nav_menu": {},
   "number_sections": false,
   "sideBar": true,
   "skip_h1_title": false,
   "title_cell": "Table of Contents",
   "title_sidebar": "Contents",
   "toc_cell": false,
   "toc_position": {
    "height": "calc(100% - 180px)",
    "left": "10px",
    "top": "150px",
    "width": "165px"
   },
   "toc_section_display": true,
   "toc_window_display": true
  }
 },
 "nbformat": 4,
 "nbformat_minor": 4
}

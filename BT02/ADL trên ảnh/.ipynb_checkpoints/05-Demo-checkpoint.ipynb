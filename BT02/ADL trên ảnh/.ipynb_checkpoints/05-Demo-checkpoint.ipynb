{
 "cells": [
  {
   "cell_type": "markdown",
   "metadata": {},
   "source": [
    "# Demo phương pháp LSB "
   ]
  },
  {
   "cell_type": "code",
   "execution_count": 1,
   "metadata": {},
   "outputs": [],
   "source": [
    "from bitarray import bitarray\n",
    "from PIL import Image\n",
    "import numpy as np"
   ]
  },
  {
   "cell_type": "code",
   "execution_count": 2,
   "metadata": {},
   "outputs": [
    {
     "name": "stdout",
     "output_type": "stream",
     "text": [
      "(512, 512)\n",
      "uint8\n",
      "727\n",
      "5816\n"
     ]
    },
    {
     "ename": "PermissionError",
     "evalue": "[Errno 13] Permission denied: '05-stego.bmp'",
     "output_type": "error",
     "traceback": [
      "\u001b[1;31m---------------------------------------------------------------------------\u001b[0m",
      "\u001b[1;31mPermissionError\u001b[0m                           Traceback (most recent call last)",
      "\u001b[1;32m<ipython-input-2-dd810ec50cdf>\u001b[0m in \u001b[0;36m<module>\u001b[1;34m\u001b[0m\n\u001b[0;32m     37\u001b[0m     \u001b[1;32mreturn\u001b[0m \u001b[1;32mTrue\u001b[0m\u001b[1;33m\u001b[0m\u001b[1;33m\u001b[0m\u001b[0m\n\u001b[0;32m     38\u001b[0m \u001b[1;33m\u001b[0m\u001b[0m\n\u001b[1;32m---> 39\u001b[1;33m \u001b[0membed\u001b[0m\u001b[1;33m(\u001b[0m\u001b[1;34m'05-msg.txt'\u001b[0m\u001b[1;33m,\u001b[0m \u001b[1;34m'05-cover.bmp'\u001b[0m\u001b[1;33m,\u001b[0m \u001b[1;36m2\u001b[0m\u001b[1;33m,\u001b[0m \u001b[1;34m'05-stego.bmp'\u001b[0m\u001b[1;33m)\u001b[0m\u001b[1;33m\u001b[0m\u001b[1;33m\u001b[0m\u001b[0m\n\u001b[0m",
      "\u001b[1;32m<ipython-input-2-dd810ec50cdf>\u001b[0m in \u001b[0;36membed\u001b[1;34m(msg_file, cover_img_file, num_lsbs, stego_img_file)\u001b[0m\n\u001b[0;32m     33\u001b[0m \u001b[1;33m\u001b[0m\u001b[0m\n\u001b[0;32m     34\u001b[0m     \u001b[1;31m# Ghi stego pixels xuống file\u001b[0m\u001b[1;33m\u001b[0m\u001b[1;33m\u001b[0m\u001b[1;33m\u001b[0m\u001b[0m\n\u001b[1;32m---> 35\u001b[1;33m     \u001b[0mImage\u001b[0m\u001b[1;33m.\u001b[0m\u001b[0mfromarray\u001b[0m\u001b[1;33m(\u001b[0m\u001b[0mstego_pixels\u001b[0m\u001b[1;33m)\u001b[0m\u001b[1;33m.\u001b[0m\u001b[0msave\u001b[0m\u001b[1;33m(\u001b[0m\u001b[0mstego_img_file\u001b[0m\u001b[1;33m)\u001b[0m\u001b[1;33m\u001b[0m\u001b[1;33m\u001b[0m\u001b[0m\n\u001b[0m\u001b[0;32m     36\u001b[0m \u001b[1;33m\u001b[0m\u001b[0m\n\u001b[0;32m     37\u001b[0m     \u001b[1;32mreturn\u001b[0m \u001b[1;32mTrue\u001b[0m\u001b[1;33m\u001b[0m\u001b[1;33m\u001b[0m\u001b[0m\n",
      "\u001b[1;32m~\\Anaconda3\\lib\\site-packages\\PIL\\Image.py\u001b[0m in \u001b[0;36msave\u001b[1;34m(self, fp, format, **params)\u001b[0m\n\u001b[0;32m   2079\u001b[0m                 \u001b[0mfp\u001b[0m \u001b[1;33m=\u001b[0m \u001b[0mbuiltins\u001b[0m\u001b[1;33m.\u001b[0m\u001b[0mopen\u001b[0m\u001b[1;33m(\u001b[0m\u001b[0mfilename\u001b[0m\u001b[1;33m,\u001b[0m \u001b[1;34m\"r+b\"\u001b[0m\u001b[1;33m)\u001b[0m\u001b[1;33m\u001b[0m\u001b[1;33m\u001b[0m\u001b[0m\n\u001b[0;32m   2080\u001b[0m             \u001b[1;32melse\u001b[0m\u001b[1;33m:\u001b[0m\u001b[1;33m\u001b[0m\u001b[1;33m\u001b[0m\u001b[0m\n\u001b[1;32m-> 2081\u001b[1;33m                 \u001b[0mfp\u001b[0m \u001b[1;33m=\u001b[0m \u001b[0mbuiltins\u001b[0m\u001b[1;33m.\u001b[0m\u001b[0mopen\u001b[0m\u001b[1;33m(\u001b[0m\u001b[0mfilename\u001b[0m\u001b[1;33m,\u001b[0m \u001b[1;34m\"w+b\"\u001b[0m\u001b[1;33m)\u001b[0m\u001b[1;33m\u001b[0m\u001b[1;33m\u001b[0m\u001b[0m\n\u001b[0m\u001b[0;32m   2082\u001b[0m \u001b[1;33m\u001b[0m\u001b[0m\n\u001b[0;32m   2083\u001b[0m         \u001b[1;32mtry\u001b[0m\u001b[1;33m:\u001b[0m\u001b[1;33m\u001b[0m\u001b[1;33m\u001b[0m\u001b[0m\n",
      "\u001b[1;31mPermissionError\u001b[0m: [Errno 13] Permission denied: '05-stego.bmp'"
     ]
    }
   ],
   "source": [
    "def embed(msg_file, cover_img_file, num_lsbs, stego_img_file):\n",
    "    # Đọc cover img file\n",
    "    cover_pixels = np.array(Image.open(cover_img_file))\n",
    "    print(cover_pixels.shape)\n",
    "    print(cover_pixels.dtype)\n",
    "    \n",
    "    # Đọc msg file\n",
    "    with open(msg_file, 'r') as f:\n",
    "        msg = f.read()\n",
    "    print(len(msg))\n",
    "    \n",
    "    # Chuyển msg thành msg bits\n",
    "    msg_bits = bitarray()\n",
    "    msg_bits.fromstring(msg)\n",
    "    print(len(msg_bits))\n",
    "    \n",
    "    # Kiểm xem có nhúng được không?\n",
    "    capacity = cover_pixels.size * num_lsbs\n",
    "    if len(msg_bits) + 1 > capacity:\n",
    "        print('Cannot embed')\n",
    "        return False\n",
    "    \n",
    "    # Thêm '100...' vào msg bits\n",
    "    msg_bits.extend('1' + '0' * (capacity - len(msg_bits) - 1))\n",
    "   \n",
    "    # Nhúng msg bits vào cover pixels\n",
    "    stego_pixels = np.empty_like(cover_pixels)\n",
    "    for r in range(cover_pixels.shape[0]):\n",
    "        for c in range(cover_pixels.shape[1]):\n",
    "            b = (r * cover_pixels.shape[1] + c) * num_lsbs\n",
    "            stego_pixels[r, c] = (cover_pixels[r, c]>>num_lsbs<<num_lsbs)\\\n",
    "                                + int(msg_bits[b:b+num_lsbs].to01(), 2)\n",
    "    \n",
    "    # Ghi stego pixels xuống file\n",
    "    Image.fromarray(stego_pixels).save(stego_img_file)\n",
    "    \n",
    "    return True\n",
    "    \n",
    "embed('05-msg.txt', '05-cover.bmp', 2, '05-stego.bmp')"
   ]
  },
  {
   "cell_type": "code",
   "execution_count": 11,
   "metadata": {},
   "outputs": [],
   "source": [
    "def extract(stego_img_file, num_lsbs, extr_msg_file):\n",
    "    # Đọc stego img file\n",
    "    stego_pixels = np.array(Image.open(stego_img_file))\n",
    "    \n",
    "    # Rút trích msg bits\n",
    "    extr_msg_bits = bitarray()\n",
    "   \n",
    "    for pixel in stego_pixels.reshape(-1):\n",
    "        extr_msg_bits.extend((np.binary_repr(pixel & (2**num_lsbs-1), num_lsbs)))\n",
    "    pixel = 10101100, num_ = 2\n",
    "\n",
    "    # Cắt đuôi '100...' ra khỏi msg bits\n",
    "    extr_msg_bits = extr_msg_bits[:extr_msg_bits.to01().rfind('1')]\n",
    "    \n",
    "    # Chuyển msg bits thành msg\n",
    "    extr_msg = extr_msg_bits.tostring()\n",
    "    \n",
    "    # Ghi msg xuống file\n",
    "    with open(extr_msg_file, 'w') as f:\n",
    "        f.write(extr_msg)\n",
    "        \n",
    "extract('05-stego.bmp', 2, '05-extr_msg.txt')"
   ]
  },
  {
   "cell_type": "code",
   "execution_count": null,
   "metadata": {},
   "outputs": [],
   "source": []
  }
 ],
 "metadata": {
  "kernelspec": {
   "display_name": "Python 3",
   "language": "python",
   "name": "python3"
  },
  "language_info": {
   "codemirror_mode": {
    "name": "ipython",
    "version": 3
   },
   "file_extension": ".py",
   "mimetype": "text/x-python",
   "name": "python",
   "nbconvert_exporter": "python",
   "pygments_lexer": "ipython3",
   "version": "3.7.4"
  }
 },
 "nbformat": 4,
 "nbformat_minor": 4
}

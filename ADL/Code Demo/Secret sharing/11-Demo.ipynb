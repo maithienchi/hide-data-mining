{
 "cells": [
  {
   "cell_type": "code",
   "execution_count": 12,
   "metadata": {},
   "outputs": [],
   "source": [
    "import numpy as np"
   ]
  },
  {
   "cell_type": "code",
   "execution_count": 13,
   "metadata": {},
   "outputs": [],
   "source": [
    "def compute_polynomial(coefs, xs):\n",
    "    '''\n",
    "    Tính giá trị của hàm đa thức.\n",
    "    \n",
    "    Các tham số:\n",
    "        coefs (mảng numpy một chiều): Các hệ số của hàm đa thức, \n",
    "                                      f(x) = coefs[0] + coefs[1]*x + coefs[2]*x^2 + ...\n",
    "        xs (mảng numpy một chiều): Các giá trị x mà tại đó cần tính f(x).\n",
    "    Giá trị trả về:\n",
    "        Mảng numpy một chiều: Phần tử chỉ số i trong mảng này bằng f(xs[i]).\n",
    "    '''\n",
    "    # TODO\n",
    "    f_xs = np.zeros(xs.shape)\n",
    "    for i in range(len(coefs)):\n",
    "        f_xs += coefs[i] * xs**i\n",
    "    \n",
    "    return f_xs\n",
    "\n",
    "def split(s, n, k):\n",
    "    '''\n",
    "    Hàm phân chia tin mật s thành n phần sao cho chỉ khi có ít nhất là k phần (k <= n)\n",
    "    thì mới tái tạo được s, còn ít hơn k phần thì sẽ không biết gì về s.\n",
    "    \n",
    "    Các tham số:\n",
    "        s (float): Tin mật cần chia sẻ.\n",
    "        n (int): Số phần cần phân chia.\n",
    "        k (int): Ngưỡng k (k <= n).\n",
    "    Giá trị trả về:\n",
    "        2 mảng numpy một chiều: Gọi 2 mảng này là xs và ys,\n",
    "                                n phần được phân chia: phần thứ 1 là (xs[0], ys[0]),\n",
    "                                                       phần thứ 2 là (xs[1], ys[1]),\n",
    "                                                       ...\n",
    "                                với ys[i] = f(xs[i]).\n",
    "    '''\n",
    "    # Tạo ra k hệ số của hàm f bậc k-1, \n",
    "    # trong đó hệ số bậc 0 [ứng với f(0)] bằng s.\n",
    "    # TODO\n",
    "    coefs = np.random.randint(-10, 10, k)\n",
    "    coefs[0] = s\n",
    "    \n",
    "    # Tính f(1), f(2), ..., f(n)\n",
    "    # TODO\n",
    "    xs = np.arange(n) + 1\n",
    "    ys = compute_polynomial(coefs, xs)\n",
    "    \n",
    "    return xs, ys  "
   ]
  },
  {
   "cell_type": "code",
   "execution_count": 14,
   "metadata": {},
   "outputs": [],
   "source": [
    "def compute_lagrange_interpolation(xs, ys, x):\n",
    "    '''\n",
    "    Tính nội suy Lagrange.\n",
    "    \n",
    "    Các tham số:\n",
    "        xs, ys (2 mảng numpy có cùng len & len = bậc-của-f + 1): ys[i] = f(xs[i]).\n",
    "        x (float): Giá trị x mà tại đó cần tính f(x) bằng nội suy Lagrange.\n",
    "    Giá trị trả về:\n",
    "        float: Giá trị f(x)\n",
    "    '''\n",
    "    # TODO\n",
    "    f_x = 0\n",
    "    for i in range(len(xs)):\n",
    "        delta = 1\n",
    "        for j in range(len(xs)):\n",
    "            if j != i:\n",
    "                delta *= (x - xs[j]) / (xs[i] - xs[j])\n",
    "        f_x += ys[i] * delta\n",
    "    \n",
    "    return f_x\n",
    "\n",
    "def join(xs, ys, k):\n",
    "    '''\n",
    "    Tái tạo tin mật s từ n' phần của tin mật (n' >= k).\n",
    "    \n",
    "    Các tham số:\n",
    "        xs, ys (2 mảng numpy một chiều, len = n'): n' phần của tin mật: phần thứ 1 là (xs[0], ys[0]), \n",
    "                                                                        phần thứ 2 là (xs[1], ys[1]), \n",
    "                                                                        ...\n",
    "        k (int): Ngưỡng k mà đã dùng khi phân chia tin mật.\n",
    "    Giá trị trả về:\n",
    "        float: Tin mật s được tái tạo,\n",
    "               trong trường hợp không đủ số phần để tái tạo tin mật thì trả về None.\n",
    "    '''\n",
    "    # TODO\n",
    "    if len(xs) < k:\n",
    "        return None\n",
    "    \n",
    "    s = compute_lagrange_interpolation(xs[:k], ys[:k], 0)\n",
    "    \n",
    "    return s"
   ]
  },
  {
   "cell_type": "code",
   "execution_count": 15,
   "metadata": {},
   "outputs": [
    {
     "name": "stdout",
     "output_type": "stream",
     "text": [
      "None\n",
      "100.00000000000003\n",
      "100.00000000000003\n"
     ]
    }
   ],
   "source": [
    "# Phân chia tin mật\n",
    "s = 100\n",
    "k = 3\n",
    "n = 5\n",
    "xs, ys = split(s, n, k)\n",
    "\n",
    "# Chọn ngẫu nhiên n' phần để tái tạo tin mật\n",
    "rand_idxs = np.random.permutation(np.arange(len(xs)))\n",
    "n_prime = k - 1\n",
    "rec_s = join(xs[rand_idxs[:n_prime]], ys[rand_idxs[:n_prime]], k)\n",
    "print(rec_s)\n",
    "n_prime = k\n",
    "rec_s = join(xs[rand_idxs[:n_prime]], ys[rand_idxs[:n_prime]], k)\n",
    "print(rec_s)\n",
    "n_prime = k + 1\n",
    "rec_s = join(xs[rand_idxs[:n_prime]], ys[rand_idxs[:n_prime]], k)\n",
    "print(rec_s)"
   ]
  },
  {
   "cell_type": "code",
   "execution_count": 16,
   "metadata": {},
   "outputs": [
    {
     "name": "stdout",
     "output_type": "stream",
     "text": [
      "-715959745597.6836\n"
     ]
    }
   ],
   "source": [
    "# Phân chia tin mật\n",
    "s = 100\n",
    "k = 15\n",
    "n = 20\n",
    "xs, ys = split(s, n, k)\n",
    "\n",
    "# Chọn ngẫu nhiên n' phần để tái tạo tin mật\n",
    "rand_idxs = np.random.permutation(np.arange(len(xs)))\n",
    "n_prime = k\n",
    "rec_s = join(xs[rand_idxs[:n_prime]], ys[rand_idxs[:n_prime]], k)\n",
    "print(rec_s)"
   ]
  },
  {
   "cell_type": "code",
   "execution_count": null,
   "metadata": {},
   "outputs": [],
   "source": []
  }
 ],
 "metadata": {
  "anaconda-cloud": {},
  "kernelspec": {
   "display_name": "Python 3",
   "language": "python",
   "name": "python3"
  },
  "language_info": {
   "codemirror_mode": {
    "name": "ipython",
    "version": 3
   },
   "file_extension": ".py",
   "mimetype": "text/x-python",
   "name": "python",
   "nbconvert_exporter": "python",
   "pygments_lexer": "ipython3",
   "version": "3.7.4"
  },
  "toc": {
   "nav_menu": {},
   "number_sections": false,
   "sideBar": true,
   "skip_h1_title": false,
   "title_cell": "Table of Contents",
   "title_sidebar": "Contents",
   "toc_cell": false,
   "toc_position": {
    "height": "calc(100% - 180px)",
    "left": "10px",
    "top": "150px",
    "width": "165px"
   },
   "toc_section_display": true,
   "toc_window_display": true
  }
 },
 "nbformat": 4,
 "nbformat_minor": 4
}

{
 "cells": [
  {
   "cell_type": "code",
   "execution_count": 13,
   "metadata": {},
   "outputs": [],
   "source": [
    "import numpy as np\n",
    "from scipy import fftpack\n",
    "from PIL import Image\n",
    "import matplotlib.pyplot as plt\n",
    "# Nếu cần thì bạn cũng có thể import các thư viện khác ..."
   ]
  },
  {
   "cell_type": "code",
   "execution_count": 2,
   "metadata": {},
   "outputs": [],
   "source": [
    "def dct2(pixels):\n",
    "    '''\n",
    "    Hàm biến đổi từ ma trận điểm ảnh sang ma trận hệ số DCT (2 ma trận có cùng shape).\n",
    "    '''\n",
    "    return fftpack.dct(fftpack.dct(pixels, axis=0, norm='ortho'), axis=1, norm='ortho')\n",
    "\n",
    "def idct2(dct_coefs):\n",
    "    '''\n",
    "    Hàm biến đổi từ ma trận hệ số DCT sang ma trận điểm ảnh (2 ma trận có cùng shape).\n",
    "    '''\n",
    "    return fftpack.idct(fftpack.idct(dct_coefs, axis=0 , norm='ortho'), axis=1, norm='ortho')"
   ]
  },
  {
   "cell_type": "code",
   "execution_count": 14,
   "metadata": {},
   "outputs": [],
   "source": [
    "def embed(watermark, original_img_file, alpha, marked_img_file):\n",
    "    '''\n",
    "    Nhúng watermark vào ảnh bằng phương pháp Cox.\n",
    "    \n",
    "    Các tham số:\n",
    "        watermark (mảng numpy một chiều): Watermark sẽ nhúng vào ảnh.\n",
    "        original_img_file (str): Tên file ảnh gốc (chưa nhúng watermark).\n",
    "        alpha (float, > 0): Tham số điều khiển mức độ làm thay đổi ảnh của watermark.\n",
    "        marked_img_file (str): Tên file ảnh chứa kết quả nhúng.       \n",
    "    '''\n",
    "    # Đọc original img file\n",
    "    original_pixels = np.array(Image.open(original_img_file))\n",
    "    \n",
    "    # Biến đổi DCT\n",
    "    dct_coefs = dct2(original_pixels).reshape(-1)\n",
    "    \n",
    "    # Nhúng watermark vào các hệ số DCT lớn nhất\n",
    "    temp = np.argsort(dct_coefs)\n",
    "    dct_coefs[temp[-len(watermark):]] *= (1 + alpha * watermark)\n",
    "    \n",
    "    # Biến đổi DCT ngược\n",
    "    dct_coefs = dct_coefs.reshape(original_pixels.shape)\n",
    "    marked_pixels = np.rint(idct2(dct_coefs)).astype(np.uint8)\n",
    "\n",
    "    # Ghi marked pixels xuống file\n",
    "    Image.fromarray(marked_pixels).save(marked_img_file)"
   ]
  },
  {
   "cell_type": "code",
   "execution_count": 8,
   "metadata": {},
   "outputs": [],
   "source": [
    "def check_watermark(watermark, img_file, original_img_file, alpha):\n",
    "    '''\n",
    "    Kiểm tra xem có watermark trong ảnh không?\n",
    "    \n",
    "    Các tham số:\n",
    "        watermark (mảng numpy một chiều): Watermark cần kiểm tra.\n",
    "        img_file (str): Tên file ảnh cần kiểm tra.\n",
    "        original_img_file (str): Tên file ảnh gốc (chưa nhúng watermark).\n",
    "        alpha (float, > 0): Tham số điều khiển mức độ làm thay đổi ảnh của watermark;\n",
    "                            tham số này đã được sử dụng khi nhúng.\n",
    "    Giá trị trả về:\n",
    "        float: Độ tương tự giữa watermark được rút trích với watermark gốc.\n",
    "    '''\n",
    "    # Đọc img file và original img file\n",
    "    pixels = np.array(Image.open(img_file))\n",
    "    original_pixels = np.array(Image.open(original_img_file))\n",
    "    \n",
    "    # Biến đổi DCT\n",
    "    dct_coefs = dct2(pixels).reshape(-1)\n",
    "    original_dct_coefs = dct2(original_pixels).reshape(-1)\n",
    "    \n",
    "    # Rút trích watermark\n",
    "    temp = np.argsort(original_dct_coefs)\n",
    "    n = len(watermark)\n",
    "    extr_watermark = (dct_coefs[temp[-n:]] - original_dct_coefs[temp[-n:]]) / (alpha * original_dct_coefs[temp[-n:]])\n",
    "    \n",
    "    # Tính độ tương tự giữa watermark rút trích được và watermark cần kiểm tra\n",
    "    similarity = np.sum(extr_watermark * watermark) / np.sqrt(np.sum(extr_watermark * extr_watermark))\n",
    "    return similarity"
   ]
  },
  {
   "cell_type": "code",
   "execution_count": 4,
   "metadata": {},
   "outputs": [],
   "source": [
    "# Tạo ra 100 watermark\n",
    "# Mỗi watermark gồm 1000 phần tử\n",
    "# Mỗi phần tử được phát sinh ngẫu nhiên từ phân bố Gauss có mean = 0, variance = 1\n",
    "watermarks = np.random.randn(100, 1000)"
   ]
  },
  {
   "cell_type": "code",
   "execution_count": 7,
   "metadata": {},
   "outputs": [],
   "source": [
    "# Chọn một watermark để nhúng vào ảnh\n",
    "# Chẳng hạn, chọn watermark thứ 20 (chỉ số 19)\n",
    "watermark = watermarks[19]\n",
    "alpha = 0.1\n",
    "embed(watermark, '10-lena.bmp', alpha, '10-marked_lena.bmp')"
   ]
  },
  {
   "cell_type": "code",
   "execution_count": 9,
   "metadata": {},
   "outputs": [
    {
     "data": {
      "text/plain": [
       "[<matplotlib.lines.Line2D at 0x1771e54d908>]"
      ]
     },
     "execution_count": 9,
     "metadata": {},
     "output_type": "execute_result"
    },
    {
     "data": {
      "image/png": "[encoded data removed]",
      "text/plain": [
       "<Figure size 432x288 with 1 Axes>"
      ]
     },
     "metadata": {
      "needs_background": "light"
     },
     "output_type": "display_data"
    }
   ],
   "source": [
    "# Với mỗi watermark trong 100 watermark, kiểm xem có trong ảnh đã được nhúng không\n",
    "similarities = []\n",
    "for i in range(len(watermarks)):\n",
    "    similarity = check_watermark(watermarks[i], '10-marked_lena.bmp', '10-lena.bmp', alpha)\n",
    "    similarities.append(similarity)\n",
    "plt.plot(similarities, 'o-')"
   ]
  },
  {
   "cell_type": "code",
   "execution_count": 10,
   "metadata": {},
   "outputs": [
    {
     "data": {
      "text/plain": [
       "19.058030226665707"
      ]
     },
     "execution_count": 10,
     "metadata": {},
     "output_type": "execute_result"
    }
   ],
   "source": [
    "# Nén JPEG\n",
    "img = Image.open('10-marked_lena.bmp')\n",
    "img.save('10-marked_lena.jpg', quality=10)\n",
    "img.close()\n",
    "\n",
    "# Watermark có còn?\n",
    "check_watermark(watermark, '10-marked_lena.jpg', '10-lena.bmp', alpha)"
   ]
  },
  {
   "cell_type": "code",
   "execution_count": 11,
   "metadata": {},
   "outputs": [
    {
     "data": {
      "text/plain": [
       "19.54849060602123"
      ]
     },
     "execution_count": 11,
     "metadata": {},
     "output_type": "execute_result"
    }
   ],
   "source": [
    "# Thu nhỏ ảnh & phóng to lên lại\n",
    "img = Image.open('10-marked_lena.bmp')\n",
    "down_img = img.resize((int(img.width / 2), int(img.height / 2)))\n",
    "down_up_img = down_img.resize((img.width, img.height))\n",
    "down_up_img.save('10-down_up_marked_lena.bmp')\n",
    "img.close()\n",
    "\n",
    "# Watermark có còn?\n",
    "check_watermark(watermark, '10-down_up_marked_lena.bmp', '10-lena.bmp', alpha)"
   ]
  },
  {
   "cell_type": "code",
   "execution_count": 12,
   "metadata": {},
   "outputs": [
    {
     "data": {
      "text/plain": [
       "13.834077027882467"
      ]
     },
     "execution_count": 12,
     "metadata": {},
     "output_type": "execute_result"
    }
   ],
   "source": [
    "# Crop ảnh, rồi tạo ảnh hoàn chỉnh (để có thể check watermark) \n",
    "# bằng cách thêm vào các phần của ảnh ban đầu (ko có watermark)\n",
    "img = Image.open('10-marked_lena.bmp')\n",
    "left = int(img.width / 4); upper = int(img.height / 4)\n",
    "right = int(img.width / 4 * 3); lower = int(img.height / 4 * 3)\n",
    "crop_img = np.array(img.crop((left, upper, right, lower)))\n",
    "uncrop_crop_img = np.array(Image.open('10-lena.bmp'))\n",
    "uncrop_crop_img[upper:lower, left:right] = crop_img\n",
    "Image.fromarray(uncrop_crop_img).save('10-uncrop_crop_marked_lena.bmp')\n",
    "\n",
    "# Watermark có còn?\n",
    "check_watermark(watermark, '10-uncrop_crop_marked_lena.bmp', '10-lena.bmp', alpha)"
   ]
  },
  {
   "cell_type": "code",
   "execution_count": null,
   "metadata": {},
   "outputs": [],
   "source": []
  }
 ],
 "metadata": {
  "anaconda-cloud": {},
  "kernelspec": {
   "display_name": "Python 3",
   "language": "python",
   "name": "python3"
  },
  "language_info": {
   "codemirror_mode": {
    "name": "ipython",
    "version": 3
   },
   "file_extension": ".py",
   "mimetype": "text/x-python",
   "name": "python",
   "nbconvert_exporter": "python",
   "pygments_lexer": "ipython3",
   "version": "3.7.4"
  },
  "toc": {
   "nav_menu": {},
   "number_sections": false,
   "sideBar": true,
   "skip_h1_title": false,
   "title_cell": "Table of Contents",
   "title_sidebar": "Contents",
   "toc_cell": false,
   "toc_position": {
    "height": "calc(100% - 180px)",
    "left": "10px",
    "top": "150px",
    "width": "165px"
   },
   "toc_section_display": true,
   "toc_window_display": true
  }
 },
 "nbformat": 4,
 "nbformat_minor": 4
}
